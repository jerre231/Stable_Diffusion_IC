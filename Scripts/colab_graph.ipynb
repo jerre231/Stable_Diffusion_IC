{
 "cells": [
  {
   "cell_type": "code",
   "execution_count": 95,
   "id": "95ccdd33-2d1f-4fed-abf0-4d217dc9db2d",
   "metadata": {},
   "outputs": [],
   "source": [
    "import pandas as pd\n",
    "from PIL import Image\n",
    "import matplotlib.pyplot as plt\n",
    "import os\n",
    "import re"
   ]
  },
  {
   "cell_type": "code",
   "execution_count": 96,
   "id": "86e6be85-cbef-4acf-a4c6-2aa0ed4691b0",
   "metadata": {},
   "outputs": [],
   "source": [
    "#definindo os diretórios\n",
    "\n",
    "main_dir = '/home/jerre/git/Stable_Diffusion_IC/colab_images'\n",
    "pleasant_dir = '/home/jerre/git/Stable_Diffusion_IC/colab_images/Pleasant'\n",
    "pleasant_p1dir = '/home/jerre/git/Stable_Diffusion_IC/colab_images/Pleasant+1'\n",
    "pleasant_p2dir = '/home/jerre/git/Stable_Diffusion_IC/colab_images/Pleasant+2'\n",
    "pleasant_p3dir = '/home/jerre/git/Stable_Diffusion_IC/colab_images/Pleasant+3'\n",
    "pleasant_p4dir = '/home/jerre/git/Stable_Diffusion_IC/colab_images/Pleasant+4'\n",
    "pleasant_p5dir = '/home/jerre/git/Stable_Diffusion_IC/colab_images/Pleasant+5'\n",
    "pleasant_n1dir = '/home/jerre/git/Stable_Diffusion_IC/colab_images/Pleasant-1'\n",
    "pleasant_n2dir = '/home/jerre/git/Stable_Diffusion_IC/colab_images/Pleasant-2'\n",
    "pleasant_n3dir = '/home/jerre/git/Stable_Diffusion_IC/colab_images/Pleasant-3'\n",
    "pleasant_n4dir = '/home/jerre/git/Stable_Diffusion_IC/colab_images/Pleasant-4'\n",
    "pleasant_n5dir = '/home/jerre/git/Stable_Diffusion_IC/colab_images/Pleasant-5'"
   ]
  },
  {
   "cell_type": "code",
   "execution_count": 97,
   "id": "97308237-bc4d-45c8-adaa-245abdabd72d",
   "metadata": {},
   "outputs": [],
   "source": [
    "def complexity_ratio(img_path, compressed_img_path):\n",
    "    \n",
    "    image = Image.open(img_path)\n",
    "    \n",
    "    image.save(compressed_img_path, optimize=True, quality=95)\n",
    "    \n",
    "    compressed_size = os.path.getsize(compressed_img_path)\n",
    "\n",
    "    return (round((compressed_size/(512*512*3))*100, 2))"
   ]
  },
  {
   "cell_type": "code",
   "execution_count": 98,
   "id": "fd22939c-bce6-407e-9979-9d2182430175",
   "metadata": {},
   "outputs": [
    {
     "name": "stdout",
     "output_type": "stream",
     "text": [
      "                                                 path  weight  complexity  \\\n",
      "0   /home/jerre/git/Stable_Diffusion_IC/colab_imag...      -5       56.84   \n",
      "1   /home/jerre/git/Stable_Diffusion_IC/colab_imag...      -5       63.58   \n",
      "2   /home/jerre/git/Stable_Diffusion_IC/colab_imag...      -5       62.96   \n",
      "3   /home/jerre/git/Stable_Diffusion_IC/colab_imag...      -5       56.51   \n",
      "4   /home/jerre/git/Stable_Diffusion_IC/colab_imag...      -5       46.07   \n",
      "5   /home/jerre/git/Stable_Diffusion_IC/colab_imag...      -4       46.06   \n",
      "6   /home/jerre/git/Stable_Diffusion_IC/colab_imag...      -4       62.05   \n",
      "7   /home/jerre/git/Stable_Diffusion_IC/colab_imag...      -4       62.96   \n",
      "8   /home/jerre/git/Stable_Diffusion_IC/colab_imag...      -4       56.44   \n",
      "9   /home/jerre/git/Stable_Diffusion_IC/colab_imag...      -4       54.28   \n",
      "10  /home/jerre/git/Stable_Diffusion_IC/colab_imag...      -3       45.70   \n",
      "11  /home/jerre/git/Stable_Diffusion_IC/colab_imag...      -3       61.08   \n",
      "\n",
      "         seed  \n",
      "0   235711124  \n",
      "1   235711121  \n",
      "2   235711120  \n",
      "3   235711122  \n",
      "4   235711123  \n",
      "5   235711123  \n",
      "6   235711120  \n",
      "7   235711121  \n",
      "8   235711124  \n",
      "9   235711122  \n",
      "10  235711123  \n",
      "11  235711120  \n"
     ]
    }
   ],
   "source": [
    "images_path = []\n",
    "images_weight = []\n",
    "images_comp_ratio = []\n",
    "images_seed = []\n",
    "\n",
    "def import_images(directory):\n",
    "    \n",
    "    compressed_dir = os.path.join(main_dir, 'compressed')\n",
    "    if not os.path.exists(compressed_dir):\n",
    "        os.makedirs(compressed_dir)\n",
    "    \n",
    "    for root, dirs, files in os.walk(directory):\n",
    "        for file in files:\n",
    "            if file.lower().endswith(('.png', '.jpg', '.jpeg', '.gif', '.bmp')):\n",
    "                img_path = os.path.join(root, file)\n",
    "\n",
    "                compressed_img_path = os.path.join(compressed_dir, f\"compressed_{file}\")\n",
    "                \n",
    "                comp_ratio = complexity_ratio(img_path, compressed_img_path)\n",
    "                images_comp_ratio.append(comp_ratio)\n",
    "                \n",
    "                images_path.append(img_path)\n",
    "\n",
    "                match_seed = re.search(r'S(\\d+)', file)\n",
    "                match_p = re.search(r'Pleasant\\+(\\d+)', directory)\n",
    "                match_n = re.search(r'Pleasant-(\\d+)', directory)\n",
    "\n",
    "\n",
    "                if match_p:\n",
    "                    images_weight.append(int(match_p.group(1)))       \n",
    "                elif match_n:\n",
    "                    images_weight.append(int(match_n.group(1)) * -1)                  \n",
    "                else:\n",
    "                    images_weight.append(0)\n",
    "\n",
    "                images_seed.append(int(match_seed.group(1)))\n",
    "\n",
    "import_images(pleasant_dir)\n",
    "import_images(pleasant_p1dir)\n",
    "import_images(pleasant_p2dir)\n",
    "import_images(pleasant_p3dir)\n",
    "import_images(pleasant_p4dir)\n",
    "import_images(pleasant_p5dir)\n",
    "import_images(pleasant_n1dir)\n",
    "import_images(pleasant_n2dir)\n",
    "import_images(pleasant_n3dir)\n",
    "import_images(pleasant_n4dir)\n",
    "import_images(pleasant_n5dir)\n",
    "\n",
    "df = pd.DataFrame({'path': images_path, 'weight': images_weight, 'complexity': images_comp_ratio, 'seed': images_seed})\n",
    "df = df.sort_values(by=['weight'])\n",
    "df.reset_index(drop=True, inplace=True)\n",
    "print(df.head(12))\n",
    "df.to_csv('out.csv', index=False)"
   ]
  },
  {
   "cell_type": "code",
   "execution_count": 99,
   "id": "13dce81c-be28-47e0-bdd0-0a628c6166c8",
   "metadata": {
    "editable": true,
    "slideshow": {
     "slide_type": ""
    },
    "tags": []
   },
   "outputs": [
    {
     "data": {
      "text/plain": [
       "<Figure size 1000x600 with 0 Axes>"
      ]
     },
     "metadata": {},
     "output_type": "display_data"
    },
    {
     "data": {
      "image/png": "[encoded data removed]",
      "text/plain": [
       "<Figure size 640x480 with 1 Axes>"
      ]
     },
     "metadata": {},
     "output_type": "display_data"
    }
   ],
   "source": [
    "plt.figure(figsize=(10, 6))\n",
    "df.boxplot(column='complexity', by='weight', grid=False, vert=True)\n",
    "plt.title('')\n",
    "plt.suptitle('')\n",
    "plt.xlabel('Peso')\n",
    "plt.ylabel('Complexidade (%)')\n",
    "plt.xticks(rotation=45)\n",
    "plt.savefig('complexity_by_weight.png', dpi=300)\n",
    "plt.show()"
   ]
  },
  {
   "cell_type": "code",
   "execution_count": 100,
   "id": "9e8e1c4f-27d2-4779-8abb-f53e696cf6f5",
   "metadata": {},
   "outputs": [
    {
     "name": "stdout",
     "output_type": "stream",
     "text": [
      "    weight    mean       std\n",
      "0       -5  57.192  7.042093\n",
      "1       -4  56.358  6.825666\n",
      "2       -3  55.514  6.623140\n",
      "3       -2  54.662  6.600858\n",
      "4       -1  54.074  6.118323\n",
      "5        0  54.964  6.644669\n",
      "6        1  55.030  6.649989\n",
      "7        2  55.120  6.653315\n",
      "8        3  54.756  6.545795\n",
      "9        4  55.124  6.413067\n",
      "10       5  55.544  5.234093\n"
     ]
    },
    {
     "data": {
      "text/plain": [
       "'\\nmean = média\\nstd = desvio padrão\\n'"
      ]
     },
     "execution_count": 100,
     "metadata": {},
     "output_type": "execute_result"
    }
   ],
   "source": [
    "df_stats = df.groupby('weight')['complexity'].agg(['mean', 'std']).reset_index()\n",
    "print(df_stats)\n",
    "\n",
    "'''\n",
    "mean = média\n",
    "std = desvio padrão\n",
    "'''"
   ]
  },
  {
   "cell_type": "code",
   "execution_count": 109,
   "id": "f48f080e-dc3b-442e-80e6-c642244ab134",
   "metadata": {},
   "outputs": [
    {
     "name": "stdout",
     "output_type": "stream",
     "text": [
      "                                                path  weight  complexity  \\\n",
      "2  /home/jerre/git/Stable_Diffusion_IC/colab_imag...      -5       62.96   \n",
      "1  /home/jerre/git/Stable_Diffusion_IC/colab_imag...      -5       63.58   \n",
      "3  /home/jerre/git/Stable_Diffusion_IC/colab_imag...      -5       56.51   \n",
      "4  /home/jerre/git/Stable_Diffusion_IC/colab_imag...      -5       46.07   \n",
      "0  /home/jerre/git/Stable_Diffusion_IC/colab_imag...      -5       56.84   \n",
      "\n",
      "        seed  diff  \n",
      "2  235711120  2.44  \n",
      "1  235711121  1.23  \n",
      "3  235711122  5.64  \n",
      "4  235711123 -0.27  \n",
      "0  235711124  2.10  \n",
      "         seed  weight  complexity\n",
      "25  235711124       0       54.74\n",
      "26  235711120       0       60.52\n",
      "27  235711121       0       62.35\n",
      "28  235711122       0       50.87\n",
      "29  235711123       0       46.34\n"
     ]
    },
    {
     "data": {
      "text/plain": [
       "'\\nmean = média\\nstd = desvio padrão\\n'"
      ]
     },
     "execution_count": 109,
     "metadata": {},
     "output_type": "execute_result"
    }
   ],
   "source": [
    "#diff = complexity_weight_0 - complexity_weight_x p/ seed\n",
    "\n",
    "diff_comp = []\n",
    "\n",
    "df_t = df.sort_values(by=['weight', 'seed'])\n",
    "df_0 = df[['seed', 'weight', 'complexity']]\n",
    "df_0 = df_0[df_0['weight'] == 0]\n",
    "\n",
    "for index, row in df_t.iterrows():\n",
    "    seed = row['seed']\n",
    "    comp = row['complexity']\n",
    "    \n",
    "    if seed in df_0['seed'].values:\n",
    "        complexity_value = df_0.loc[df_0['seed'] == seed, 'complexity'].values[0]\n",
    "        diff_comp.append(comp - complexity_value)\n",
    "\n",
    "df_t['diff'] = diff_comp\n",
    "\n",
    "print(df_t.head())\n",
    "print(df_0.head())\n",
    "#diffs = df.groupby('seed')['diff'].agg(['mean', 'std']).reset_index()\n",
    "#print(df_stats)\n",
    "\n",
    "'''\n",
    "mean = média\n",
    "std = desvio padrão\n",
    "'''"
   ]
  },
  {
   "cell_type": "code",
   "execution_count": 108,
   "id": "91500800-a44e-4799-b1d1-a7c538e052d9",
   "metadata": {},
   "outputs": [
    {
     "data": {
      "image/png": "[encoded data removed]",
      "text/plain": [
       "<Figure size 1000x600 with 1 Axes>"
      ]
     },
     "metadata": {},
     "output_type": "display_data"
    }
   ],
   "source": [
    "plt.figure(figsize=(10, 6))\n",
    "plt.scatter(df_t['weight'], df_t['diff'], alpha=0.6)\n",
    "plt.title('')\n",
    "plt.xlabel('Peso')\n",
    "plt.ylabel('Complexidade (%)')\n",
    "plt.xticks(rotation=45)\n",
    "plt.grid(True)\n",
    "plt.savefig('complexity_by_weight_scatter.png', dpi=300)\n",
    "plt.show()"
   ]
  }
 ],
 "metadata": {
  "kernelspec": {
   "display_name": "Python 3 (ipykernel)",
   "language": "python",
   "name": "python3"
  },
  "language_info": {
   "codemirror_mode": {
    "name": "ipython",
    "version": 3
   },
   "file_extension": ".py",
   "mimetype": "text/x-python",
   "name": "python",
   "nbconvert_exporter": "python",
   "pygments_lexer": "ipython3",
   "version": "3.12.4"
  }
 },
 "nbformat": 4,
 "nbformat_minor": 5
}
