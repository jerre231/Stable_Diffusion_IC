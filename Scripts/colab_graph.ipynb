{
 "cells": [
  {
   "cell_type": "code",
   "execution_count": 61,
   "id": "95ccdd33-2d1f-4fed-abf0-4d217dc9db2d",
   "metadata": {},
   "outputs": [],
   "source": [
    "import pandas as pd\n",
    "from PIL import Image\n",
    "import matplotlib.pyplot as plt\n",
    "import os\n",
    "import re"
   ]
  },
  {
   "cell_type": "code",
   "execution_count": 62,
   "id": "86e6be85-cbef-4acf-a4c6-2aa0ed4691b0",
   "metadata": {},
   "outputs": [],
   "source": [
    "#definindo os diretórios\n",
    "\n",
    "main_dir = '/home/jerre/git/Stable_Diffusion_IC/colab_images'\n",
    "pleasant_p1dir = '/home/jerre/git/Stable_Diffusion_IC/colab_images/Pleasant+1'\n",
    "pleasant_p2dir = '/home/jerre/git/Stable_Diffusion_IC/colab_images/Pleasant+2'\n",
    "pleasant_p3dir = '/home/jerre/git/Stable_Diffusion_IC/colab_images/Pleasant+3'\n",
    "pleasant_p4dir = '/home/jerre/git/Stable_Diffusion_IC/colab_images/Pleasant+4'\n",
    "pleasant_p5dir = '/home/jerre/git/Stable_Diffusion_IC/colab_images/Pleasant+5'\n",
    "pleasant_n1dir = '/home/jerre/git/Stable_Diffusion_IC/colab_images/Pleasant-1'\n",
    "pleasant_n2dir = '/home/jerre/git/Stable_Diffusion_IC/colab_images/Pleasant-2'\n",
    "pleasant_n3dir = '/home/jerre/git/Stable_Diffusion_IC/colab_images/Pleasant-3'\n",
    "pleasant_n4dir = '/home/jerre/git/Stable_Diffusion_IC/colab_images/Pleasant-4'\n",
    "pleasant_n5dir = '/home/jerre/git/Stable_Diffusion_IC/colab_images/Pleasant-5'"
   ]
  },
  {
   "cell_type": "code",
   "execution_count": 63,
   "id": "97308237-bc4d-45c8-adaa-245abdabd72d",
   "metadata": {},
   "outputs": [],
   "source": [
    "def complexity_ratio(img_path, compressed_img_path):\n",
    "    \n",
    "    image = Image.open(img_path)\n",
    "    \n",
    "    image.save(compressed_img_path, optimize=True, quality=95)\n",
    "    \n",
    "    compressed_size = os.path.getsize(compressed_img_path)\n",
    "\n",
    "    return (round((compressed_size/(512*512*3))*100, 2))"
   ]
  },
  {
   "cell_type": "code",
   "execution_count": 64,
   "id": "fd22939c-bce6-407e-9979-9d2182430175",
   "metadata": {},
   "outputs": [
    {
     "name": "stdout",
     "output_type": "stream",
     "text": [
      "                                                 path  weight  complexity\n",
      "0   /home/jerre/git/Stable_Diffusion_IC/colab_imag...      -5       62.96\n",
      "1   /home/jerre/git/Stable_Diffusion_IC/colab_imag...      -5       56.51\n",
      "2   /home/jerre/git/Stable_Diffusion_IC/colab_imag...      -5       63.58\n",
      "3   /home/jerre/git/Stable_Diffusion_IC/colab_imag...      -5       56.84\n",
      "4   /home/jerre/git/Stable_Diffusion_IC/colab_imag...      -5       46.07\n",
      "5   /home/jerre/git/Stable_Diffusion_IC/colab_imag...      -4       54.28\n",
      "6   /home/jerre/git/Stable_Diffusion_IC/colab_imag...      -4       62.96\n",
      "7   /home/jerre/git/Stable_Diffusion_IC/colab_imag...      -4       46.06\n",
      "8   /home/jerre/git/Stable_Diffusion_IC/colab_imag...      -4       56.44\n",
      "9   /home/jerre/git/Stable_Diffusion_IC/colab_imag...      -4       62.05\n",
      "10  /home/jerre/git/Stable_Diffusion_IC/colab_imag...      -3       62.10\n",
      "11  /home/jerre/git/Stable_Diffusion_IC/colab_imag...      -3       61.08\n"
     ]
    }
   ],
   "source": [
    "images_path = []\n",
    "images_weight = []\n",
    "images_comp_ratio = []\n",
    "\n",
    "def import_images(directory):\n",
    "    \n",
    "    compressed_dir = os.path.join(main_dir, 'compressed')\n",
    "    if not os.path.exists(compressed_dir):\n",
    "        os.makedirs(compressed_dir)\n",
    "    \n",
    "    for root, dirs, files in os.walk(directory):\n",
    "        for file in files:\n",
    "            if file.lower().endswith(('.png', '.jpg', '.jpeg', '.gif', '.bmp')):\n",
    "                img_path = os.path.join(root, file)\n",
    "\n",
    "                #encaminhar para nova pasta de arquivos comprimidos\n",
    "                compressed_img_path = os.path.join(compressed_dir, f\"compressed_{file}\")\n",
    "                \n",
    "                comp_ratio = complexity_ratio(img_path, compressed_img_path)\n",
    "                images_comp_ratio.append(comp_ratio)\n",
    "                \n",
    "                images_path.append(img_path)\n",
    "\n",
    "                match_p = re.search(r'Pleasant\\+(\\d+)', directory)\n",
    "                match_n = re.search(r'Pleasant-(\\d+)', directory)\n",
    "\n",
    "                if match_p:\n",
    "                    images_weight.append(int(match_p.group(1)))\n",
    "                elif match_n:\n",
    "                    images_weight.append(int(match_n.group(1)) * -1)\n",
    "                else:\n",
    "                    images_weight.append('0')\n",
    "\n",
    "import_images(pleasant_p1dir)\n",
    "import_images(pleasant_p2dir)\n",
    "import_images(pleasant_p3dir)\n",
    "import_images(pleasant_p4dir)\n",
    "import_images(pleasant_p5dir)\n",
    "import_images(pleasant_n1dir)\n",
    "import_images(pleasant_n2dir)\n",
    "import_images(pleasant_n3dir)\n",
    "import_images(pleasant_n4dir)\n",
    "import_images(pleasant_n5dir)\n",
    "\n",
    "# Create the DataFrame and sort it\n",
    "df = pd.DataFrame({'path': images_path, 'weight': images_weight, 'complexity': images_comp_ratio})\n",
    "df = df.sort_values(by=['weight'])\n",
    "df.reset_index(drop=True, inplace=True)\n",
    "print(df.head(12))\n",
    "\n",
    "df = pd.DataFrame({'path': images_path, 'weight': images_weight, 'complexity': images_comp_ratio})\n",
    "df = df.sort_values(by=['weight'])\n",
    "df.reset_index(drop=True, inplace=True)\n",
    "df.to_csv('out.csv', index=False)"
   ]
  },
  {
   "cell_type": "code",
   "execution_count": 65,
   "id": "13dce81c-be28-47e0-bdd0-0a628c6166c8",
   "metadata": {},
   "outputs": [
    {
     "data": {
      "text/plain": [
       "<Figure size 1000x600 with 0 Axes>"
      ]
     },
     "metadata": {},
     "output_type": "display_data"
    },
    {
     "data": {
      "image/png": "[encoded data removed]",
      "text/plain": [
       "<Figure size 640x480 with 1 Axes>"
      ]
     },
     "metadata": {},
     "output_type": "display_data"
    }
   ],
   "source": [
    "plt.figure(figsize=(10, 6))\n",
    "df.boxplot(column='complexity', by='weight', grid=False, vert=True)\n",
    "plt.title('Complexity x Weight')\n",
    "plt.suptitle('')\n",
    "plt.xlabel('Weight')\n",
    "plt.ylabel('Complexity')\n",
    "plt.xticks(rotation=45)\n",
    "plt.show()"
   ]
  }
 ],
 "metadata": {
  "kernelspec": {
   "display_name": "Python 3 (ipykernel)",
   "language": "python",
   "name": "python3"
  },
  "language_info": {
   "codemirror_mode": {
    "name": "ipython",
    "version": 3
   },
   "file_extension": ".py",
   "mimetype": "text/x-python",
   "name": "python",
   "nbconvert_exporter": "python",
   "pygments_lexer": "ipython3",
   "version": "3.12.4"
  }
 },
 "nbformat": 4,
 "nbformat_minor": 5
}
