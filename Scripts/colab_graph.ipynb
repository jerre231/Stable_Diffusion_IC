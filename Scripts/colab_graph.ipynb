{
 "cells": [
  {
   "cell_type": "code",
   "execution_count": 3,
   "id": "95ccdd33-2d1f-4fed-abf0-4d217dc9db2d",
   "metadata": {},
   "outputs": [],
   "source": [
    "import pandas as pd\n",
    "from PIL import Image\n",
    "import matplotlib.pyplot as plt\n",
    "import os\n",
    "import re"
   ]
  },
  {
   "cell_type": "code",
   "execution_count": null,
   "id": "86e6be85-cbef-4acf-a4c6-2aa0ed4691b0",
   "metadata": {},
   "outputs": [],
   "source": [
    "#definindo os diretórios\n",
    "\n",
    "pleasant_dir = '/home/llm/Stable_Diffusion_IC/colab_images/Pleasant'\n",
    "pleasant_p1dir = '/home/llm/Stable_Diffusion_IC/colab_images/Pleasant+1'\n",
    "pleasant_p2dir = '/home/llm/Stable_Diffusion_IC/colab_images/Pleasant+2'\n",
    "pleasant_p3dir = '/home/llm/Stable_Diffusion_IC/colab_images/Pleasant+3'\n",
    "pleasant_p4dir = '/home/llm/Stable_Diffusion_IC/colab_images/Pleasant+4'\n",
    "pleasant_p5dir = '/home/llm/Stable_Diffusion_IC/colab_images/Pleasant+5'\n",
    "pleasant_n1dir = '/home/llm/Stable_Diffusion_IC/colab_images/Pleasant-1'\n",
    "pleasant_n2dir = '/home/llm/Stable_Diffusion_IC/colab_images/Pleasant-2'\n",
    "pleasant_n3dir = '/home/llm/Stable_Diffusion_IC/colab_images/Pleasant-3'\n",
    "pleasant_n4dir = '/home/llm/Stable_Diffusion_IC/colab_images/Pleasant-4'\n",
    "pleasant_n5dir = '/home/llm/Stable_Diffusion_IC/colab_images/Pleasant-5'"
   ]
  },
  {
   "cell_type": "code",
   "execution_count": 4,
   "id": "97308237-bc4d-45c8-adaa-245abdabd72d",
   "metadata": {},
   "outputs": [],
   "source": [
    "def complexity_ratio(img_path, compressed_img_path):\n",
    "    \n",
    "    image = Image.open(img_path)\n",
    "    \n",
    "    image.save(compressed_img_path, optimize=True, quality=95)\n",
    "    \n",
    "    compressed_size = os.path.getsize(compressed_img_path)\n",
    "\n",
    "    return (round((compressed_size/(512*512*3))*100, 2))"
   ]
  },
  {
   "cell_type": "code",
   "execution_count": 5,
   "id": "4bcc8b77-7673-4f85-b614-5a314a2c132b",
   "metadata": {},
   "outputs": [
    {
     "data": {
      "text/html": [
       "<div>\n",
       "<style scoped>\n",
       "    .dataframe tbody tr th:only-of-type {\n",
       "        vertical-align: middle;\n",
       "    }\n",
       "\n",
       "    .dataframe tbody tr th {\n",
       "        vertical-align: top;\n",
       "    }\n",
       "\n",
       "    .dataframe thead th {\n",
       "        text-align: right;\n",
       "    }\n",
       "</style>\n",
       "<table border=\"1\" class=\"dataframe\">\n",
       "  <thead>\n",
       "    <tr style=\"text-align: right;\">\n",
       "      <th></th>\n",
       "      <th>path</th>\n",
       "      <th>weight</th>\n",
       "      <th>complexity</th>\n",
       "    </tr>\n",
       "  </thead>\n",
       "  <tbody>\n",
       "  </tbody>\n",
       "</table>\n",
       "</div>"
      ],
      "text/plain": [
       "Empty DataFrame\n",
       "Columns: [path, weight, complexity]\n",
       "Index: []"
      ]
     },
     "execution_count": 5,
     "metadata": {},
     "output_type": "execute_result"
    }
   ],
   "source": [
    "images_path = []\n",
    "images_weight = []\n",
    "images_comp_ratio = []\n",
    "\n",
    "def import_images(directory):\n",
    "    for root, dirs, files in os.walk(directory):\n",
    "        for file in files:\n",
    "            if file.lower().endswith(('.png', '.jpg', '.jpeg', '.gif', '.bmp')):\n",
    "                img_path = os.path.join(root, file)\n",
    "\n",
    "                #encaminhar para nova pasta de arquivos comprimidos\n",
    "                compressed_img_path = os.path.join(root, f\"compressed_{file}\")\n",
    "                \n",
    "                comp_ratio = complexity_ratio(img_path, compressed_img_path)\n",
    "                images_comp_ratio.append(comp_ratio)\n",
    "                \n",
    "                images_path.append(img_path)\n",
    "    \n",
    "                #adicionar a extração do peso a partir do diretorio\n",
    "\n",
    "df = pd.DataFrame({'path': images_path, 'weight': images_weight, 'complexity': images_comp_ratio})\n",
    "df = df.sort_values(by=['weight'])\n",
    "df.reset_index(drop=True, inplace=True)\n",
    "df.head(12)"
   ]
  }
 ],
 "metadata": {
  "kernelspec": {
   "display_name": "Python 3 (ipykernel)",
   "language": "python",
   "name": "python3"
  },
  "language_info": {
   "codemirror_mode": {
    "name": "ipython",
    "version": 3
   },
   "file_extension": ".py",
   "mimetype": "text/x-python",
   "name": "python",
   "nbconvert_exporter": "python",
   "pygments_lexer": "ipython3",
   "version": "3.12.4"
  }
 },
 "nbformat": 4,
 "nbformat_minor": 5
}
